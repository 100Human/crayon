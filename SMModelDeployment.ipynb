{
 "cells": [
  {
   "cell_type": "code",
   "execution_count": 78,
   "metadata": {},
   "outputs": [],
   "source": [
    "import os\n",
    "import sagemaker\n",
    "from sagemaker.local import LocalSession\n",
    "from sagemaker.predictor import RealTimePredictor, Predictor\n",
    "import requests\n"
   ]
  },
  {
   "cell_type": "code",
   "execution_count": 3,
   "metadata": {},
   "outputs": [],
   "source": [
    "sagemaker_local_session = LocalSession()\n",
    "sagemaker_local_session.config = {'local': {'local_code': True}}\n"
   ]
  },
  {
   "cell_type": "code",
   "execution_count": 4,
   "metadata": {},
   "outputs": [],
   "source": [
    "project_dir = !pwd"
   ]
  },
  {
   "cell_type": "code",
   "execution_count": 89,
   "metadata": {},
   "outputs": [],
   "source": [
    "# Define SageMaker model\n",
    "model = sagemaker.Model(\n",
    "    model_data=f'file://model/xgb-clf-2023-05-30_20-51.tar.gz',\n",
    "    # model_data='s3://crayon-task/models/xgb-clf-2023-05-30_20-51.tar.gz',\n",
    "    role='arn:aws:iam::436417766157:role/service-role/AmazonSageMaker-ExecutionRole-20230529T125362',\n",
    "    sagemaker_session=sagemaker_local_session,\n",
    "    image_uri='test-crayon-image',\n",
    ")\n"
   ]
  },
  {
   "cell_type": "code",
   "execution_count": 107,
   "metadata": {},
   "outputs": [
    {
     "name": "stdout",
     "output_type": "stream",
     "text": [
      "Sending build context to Docker daemon  905.2kB\n",
      "Step 1/8 : FROM python:3.10.4\n",
      " ---> e4ccc57bca82\n",
      "Step 2/8 : WORKDIR /opt/program\n",
      " ---> Using cache\n",
      " ---> 2dba2a701bb7\n",
      "Step 3/8 : COPY app/requirements.txt .\n",
      " ---> Using cache\n",
      " ---> f28178a9ff52\n",
      "Step 4/8 : RUN pip install -r requirements.txt\n",
      " ---> Using cache\n",
      " ---> b1a310f960e2\n",
      "Step 5/8 : COPY app .\n",
      " ---> cedeb3ca3c66\n",
      "Step 6/8 : EXPOSE 8080\n",
      " ---> Running in 1dd79bff7ab7\n",
      "Removing intermediate container 1dd79bff7ab7\n",
      " ---> 47b13a865bbd\n",
      "Step 7/8 : ENV SM_MODEL_DIR /opt/ml/model\n",
      " ---> Running in 9dd2c7cd10e0\n",
      "Removing intermediate container 9dd2c7cd10e0\n",
      " ---> 6d69e2a3d4cf\n",
      "Step 8/8 : ENTRYPOINT [\"gunicorn\", \"-b\", \"0.0.0.0:8080\", \"app:app\", \"-n\"]\n",
      " ---> Running in ca5e2b1ae68b\n",
      "Removing intermediate container ca5e2b1ae68b\n",
      " ---> c691b6641265\n",
      "Successfully built c691b6641265\n",
      "Successfully tagged test-crayon-image:latest\n"
     ]
    }
   ],
   "source": [
    "!docker build -t test-crayon-image ."
   ]
  },
  {
   "cell_type": "code",
   "execution_count": 125,
   "metadata": {},
   "outputs": [
    {
     "name": "stderr",
     "output_type": "stream",
     "text": [
      "The class RealTimePredictor has been renamed in sagemaker>=2.\n",
      "See: https://sagemaker.readthedocs.io/en/stable/v2.html for details.\n"
     ]
    },
    {
     "name": "stdout",
     "output_type": "stream",
     "text": [
      "Attaching to 0vdew8lsdu-algo-1-2qe4u\n",
      "\u001b[36m0vdew8lsdu-algo-1-2qe4u |\u001b[0m [2023-05-31 11:24:27 +0000] [1] [INFO] Starting gunicorn 20.1.0\n",
      "\u001b[36m0vdew8lsdu-algo-1-2qe4u |\u001b[0m [2023-05-31 11:24:27 +0000] [1] [INFO] Listening at: http://0.0.0.0:8080 (1)\n",
      "\u001b[36m0vdew8lsdu-algo-1-2qe4u |\u001b[0m [2023-05-31 11:24:27 +0000] [1] [INFO] Using worker: sync\n",
      "\u001b[36m0vdew8lsdu-algo-1-2qe4u |\u001b[0m [2023-05-31 11:24:27 +0000] [8] [INFO] Booting worker with pid: 8\n",
      "!"
     ]
    }
   ],
   "source": [
    "predictor = model.deploy(\n",
    "    # predictor_cls=RealTimePredictor('test-endpoint'),\n",
    "    # predictor_cls=Predictor('test-endpoint'),\n",
    "    instance_type='local',\n",
    "    initial_instance_count=1,\n",
    "    wait=True\n",
    ")"
   ]
  },
  {
   "cell_type": "code",
   "execution_count": 120,
   "metadata": {},
   "outputs": [],
   "source": [
    "url = 'http://localhost:8080/invocations'\n",
    "\n",
    "data = '''Age,BusinessTravel,DailyRate,Department,DistanceFromHome,Education,EducationField,EmployeeCount,EmployeeNumber,EnvironmentSatisfaction,Gender,HourlyRate,JobInvolvement,JobLevel,JobRole,JobSatisfaction,MaritalStatus,MonthlyIncome,MonthlyRate,NumCompaniesWorked,Over18,OverTime,PercentSalaryHike,PerformanceRating,RelationshipSatisfaction,StandardHours,StockOptionLevel,TotalWorkingYears,TrainingTimesLastYear,WorkLifeBalance,YearsAtCompany,YearsInCurrentRole,YearsSinceLastPromotion,YearsWithCurrManager\n",
    "41,Travel_Rarely,1102,Sales,1,2,Life Sciences,1,1,2,Female,94,3,2,Sales Executive,4,Single,5993,19479,8,Y,Yes,11,3,1,80,0,8,0,1,6,4,0,5\n",
    "49,Travel_Frequently,279,Research & Development,8,1,Life Sciences,1,2,3,Male,61,2,2,Research Scientist,2,Married,5130,24907,1,Y,No,23,4,4,80,1,10,3,3,10,7,1,7\n",
    "37,Travel_Rarely,1373,Research & Development,2,2,Other,1,4,4,Male,92,2,1,Laboratory Technician,3,Single,2090,2396,6,Y,Yes,15,3,2,80,0,7,3,3,0,0,0,0\n",
    "'''\n",
    "\n",
    "response = requests.post(url, data=data, headers={'Content-Type': 'text/csv'})"
   ]
  },
  {
   "cell_type": "code",
   "execution_count": 121,
   "metadata": {},
   "outputs": [
    {
     "data": {
      "text/plain": [
       "'[1, 0, 1]'"
      ]
     },
     "execution_count": 121,
     "metadata": {},
     "output_type": "execute_result"
    }
   ],
   "source": [
    "response.text"
   ]
  },
  {
   "cell_type": "code",
   "execution_count": 128,
   "metadata": {},
   "outputs": [
    {
     "data": {
      "text/plain": [
       "'pong'"
      ]
     },
     "execution_count": 128,
     "metadata": {},
     "output_type": "execute_result"
    }
   ],
   "source": [
    "requests.get('http://localhost:8080/ping').text"
   ]
  },
  {
   "cell_type": "code",
   "execution_count": null,
   "metadata": {},
   "outputs": [],
   "source": []
  }
 ],
 "metadata": {
  "kernelspec": {
   "display_name": "Python 3 (ipykernel)",
   "language": "python",
   "name": "python3"
  },
  "language_info": {
   "codemirror_mode": {
    "name": "ipython",
    "version": 3
   },
   "file_extension": ".py",
   "mimetype": "text/x-python",
   "name": "python",
   "nbconvert_exporter": "python",
   "pygments_lexer": "ipython3",
   "version": "3.8.5"
  }
 },
 "nbformat": 4,
 "nbformat_minor": 4
}
